{
 "cells": [
  {
   "cell_type": "code",
   "execution_count": null,
   "metadata": {},
   "outputs": [],
   "source": [
    "# This script was created to list all the files under a directory and calculate their md5 values.\n",
    "# list_md5.txt outputs two columns with md5 values and corresponding file full path.\n",
    "# err_files.txt records error messages.\n",
    "\n",
    "import os\n",
    "import hashlib\n",
    "import re\n",
    "\n",
    "# for windows\n",
    "\n",
    "cur_work_dir = 'H:\\\\' \n",
    "holder = ''\n",
    "err_catcher = ''\n",
    "\n",
    "def MD5(file_path, block_size = 2**20):\n",
    "    m = hashlib.md5()\n",
    "    \n",
    "    with open(file_path, 'rb') as f:\n",
    "        while True:\n",
    "            chunk = f.read(block_size)\n",
    "            if not chunk:\n",
    "                break\n",
    "            m.update(chunk)\n",
    "        \n",
    "    return m.hexdigest()\n",
    "\n",
    "for root, dirs, names in os.walk(cur_work_dir):\n",
    "    for name in names:\n",
    "        file_path = os.path.join(root, name).replace('\\\\', '/')\n",
    "        # if you are working with hard drives, there's some useless hidden files that you wanna filter out\n",
    "        if (re.search('RECYCLE.BIN', file_path)) is None:\n",
    "            if (re.search('Trash-1000', file_path)) is None:\n",
    "                if (re.search('System Volume Information', file_path))is None:\n",
    "                    try:\n",
    "                        md5_val = MD5(file_path)\n",
    "                        holder += md5_val + '  ' + file_path + '\\n'\n",
    "                    except PermissionError:\n",
    "                        err_catcher += file_path + '\\n'\n",
    "                        \n",
    "                    \n",
    "# set encoding to utf-8, cuz the windows writer uses gbk as default and it can't encode weird simbols\n",
    "# python 2.7 doesn't have the encoding argument\n",
    "with open(cur_work_dir + 'list_md5.txt', 'w', encoding = 'utf-8') as final:\n",
    "    final.write(holder)\n",
    "        \n",
    "with open(cur_work_dir + 'err_files.txt', 'w', encoding = 'utf-8') as err:\n",
    "    err.write(err_catcher)\n",
    "        \n",
    "    "
   ]
  }
 ],
 "metadata": {
  "kernelspec": {
   "display_name": "Python 3",
   "language": "python",
   "name": "python3"
  },
  "language_info": {
   "codemirror_mode": {
    "name": "ipython",
    "version": 3
   },
   "file_extension": ".py",
   "mimetype": "text/x-python",
   "name": "python",
   "nbconvert_exporter": "python",
   "pygments_lexer": "ipython3",
   "version": "3.7.3"
  }
 },
 "nbformat": 4,
 "nbformat_minor": 2
}
